{
 "cells": [
  {
   "cell_type": "code",
   "execution_count": 1,
   "metadata": {
    "ExecuteTime": {
     "end_time": "2020-05-14T14:23:44.678833Z",
     "start_time": "2020-05-14T14:23:43.938373Z"
    }
   },
   "outputs": [],
   "source": [
    "import pandas as pd"
   ]
  },
  {
   "cell_type": "code",
   "execution_count": 3,
   "metadata": {
    "ExecuteTime": {
     "end_time": "2020-05-14T14:25:27.856613Z",
     "start_time": "2020-05-14T14:25:26.426626Z"
    }
   },
   "outputs": [],
   "source": [
    "import requests\n",
    "url_get = requests.get('https://monexnews.com/kurs-valuta-asing.htm?kurs=JPY&searchdatefrom=01-01-2019&searchdateto=01-12-2019')"
   ]
  },
  {
   "cell_type": "code",
   "execution_count": 4,
   "metadata": {
    "ExecuteTime": {
     "end_time": "2020-05-14T14:26:08.405148Z",
     "start_time": "2020-05-14T14:26:08.270105Z"
    }
   },
   "outputs": [
    {
     "name": "stdout",
     "output_type": "stream",
     "text": [
      "<class 'bs4.BeautifulSoup'>\n"
     ]
    }
   ],
   "source": [
    "from bs4 import BeautifulSoup \n",
    "\n",
    "soup = BeautifulSoup(url_get.content,\"html.parser\")\n",
    "print(type(soup))"
   ]
  },
  {
   "cell_type": "code",
   "execution_count": 5,
   "metadata": {
    "ExecuteTime": {
     "end_time": "2020-05-14T14:27:48.007239Z",
     "start_time": "2020-05-14T14:27:47.990166Z"
    }
   },
   "outputs": [
    {
     "name": "stdout",
     "output_type": "stream",
     "text": [
      "table class=\"table\">\n",
      " <tr>\n",
      "  <td>\n",
      "   TANGGAL\n",
      "  </td>\n",
      "  <td>\n",
      "   ASK\n",
      "  </td>\n",
      "  <td>\n",
      "   BID\n",
      "  </td>\n",
      " </tr>\n",
      " <tr class=\"verySoftGreyBg\">\n",
      "  <td>\n",
      "   29 November 2019\n",
      "  </td>\n",
      "  <td>\n",
      "   129,44\n",
      "  </td>\n",
      "  <td>\n",
      "   128,12\n",
      "  </td>\n",
      " </tr>\n",
      " <tr>\n",
      "  <td>\n",
      "   28 November 2019\n",
      "  </td>\n",
      "  <td>\n",
      "   129,47\n",
      "  </td>\n",
      "  <td>\n",
      "   128,15\n",
      "  </td>\n",
      " </tr>\n",
      " <tr class=\"verySoftGreyBg\">\n",
      "  <td>\n",
      "   27 November 2019\n",
      "  </td>\n",
      "  <td>\n",
      "   129,84\n",
      "  </td>\n",
      "  <td>\n",
      "   128,53\n",
      "  </td>\n",
      " </tr>\n",
      " <tr>\n",
      "  <td>\n",
      "   26 November 2019\n",
      "  </td>\n",
      "  <td>\n",
      "   129,\n"
     ]
    }
   ],
   "source": [
    "table = soup.find('table', attrs={'class':'table'})\n",
    "print(table.prettify()[1:500])"
   ]
  },
  {
   "cell_type": "code",
   "execution_count": 7,
   "metadata": {
    "ExecuteTime": {
     "end_time": "2020-05-14T14:33:12.749373Z",
     "start_time": "2020-05-14T14:33:12.746367Z"
    }
   },
   "outputs": [],
   "source": [
    "tr = table.find_all('tr')"
   ]
  },
  {
   "cell_type": "code",
   "execution_count": 8,
   "metadata": {
    "ExecuteTime": {
     "end_time": "2020-05-14T14:33:15.386597Z",
     "start_time": "2020-05-14T14:33:15.187037Z"
    }
   },
   "outputs": [
    {
     "data": {
      "text/plain": [
       "[('29\\xa0November\\xa02019', '129,44', '128,12'),\n",
       " ('28\\xa0November\\xa02019', '129,47', '128,15'),\n",
       " ('27\\xa0November\\xa02019', '129,84', '128,53'),\n",
       " ('26\\xa0November\\xa02019', '129,82', '128,49'),\n",
       " ('25\\xa0November\\xa02019', '130,20', '128,89'),\n",
       " ('22\\xa0November\\xa02019', '130,44', '129,10'),\n",
       " ('21\\xa0November\\xa02019', '130,73', '129,39'),\n",
       " ('20\\xa0November\\xa02019', '130,56', '129,23'),\n",
       " ('19\\xa0November\\xa02019', '130,34', '129,03'),\n",
       " ('18\\xa0November\\xa02019', '130,02', '128,70'),\n",
       " ('15\\xa0November\\xa02019', '130,23', '128,90'),\n",
       " ('14\\xa0November\\xa02019', '130,34', '129,01'),\n",
       " ('13\\xa0November\\xa02019', '129,86', '128,53'),\n",
       " ('12\\xa0November\\xa02019', '129,45', '128,15'),\n",
       " ('11\\xa0November\\xa02019', '129,37', '128,07'),\n",
       " ('08\\xa0November\\xa02019', '129,03', '127,73'),\n",
       " ('07\\xa0November\\xa02019', '129,71', '128,41'),\n",
       " ('06\\xa0November\\xa02019', '128,96', '127,64'),\n",
       " ('05\\xa0November\\xa02019', '129,67', '128,34'),\n",
       " ('04\\xa0November\\xa02019', '130,04', '128,71'),\n",
       " ('01\\xa0November\\xa02019', '130,88', '129,54'),\n",
       " ('31\\xa0Oktober\\xa02019', '129,57', '128,25'),\n",
       " ('30\\xa0Oktober\\xa02019', '129,67', '128,34'),\n",
       " ('29\\xa0Oktober\\xa02019', '129,39', '128,09'),\n",
       " ('28\\xa0Oktober\\xa02019', '129,57', '128,27'),\n",
       " ('25\\xa0Oktober\\xa02019', '130,11', '128,78'),\n",
       " ('24\\xa0Oktober\\xa02019', '129,52', '128,22'),\n",
       " ('23\\xa0Oktober\\xa02019', '130,35', '129,05'),\n",
       " ('22\\xa0Oktober\\xa02019', '130,06', '128,73'),\n",
       " ('21\\xa0Oktober\\xa02019', '130,94', '129,60'),\n",
       " ('18\\xa0Oktober\\xa02019', '130,91', '129,60'),\n",
       " ('17\\xa0Oktober\\xa02019', '130,94', '129,61'),\n",
       " ('16\\xa0Oktober\\xa02019', '131,20', '129,89'),\n",
       " ('15\\xa0Oktober\\xa02019', '131,19', '129,87'),\n",
       " ('14\\xa0Oktober\\xa02019', '131,11', '129,77'),\n",
       " ('11\\xa0Oktober\\xa02019', '131,66', '130,31'),\n",
       " ('10\\xa0Oktober\\xa02019', '132,29', '130,94'),\n",
       " ('09\\xa0Oktober\\xa02019', '133,01', '131,64'),\n",
       " ('08\\xa0Oktober\\xa02019', '132,68', '131,32'),\n",
       " ('07\\xa0Oktober\\xa02019', '133,19', '131,83'),\n",
       " ('04\\xa0Oktober\\xa02019', '133,05', '131,71'),\n",
       " ('03\\xa0Oktober\\xa02019', '133,13', '131,80'),\n",
       " ('02\\xa0Oktober\\xa02019', '132,55', '131,19'),\n",
       " ('01\\xa0Oktober\\xa02019', '131,87', '130,52'),\n",
       " ('30\\xa0September\\xa02019', '132,03', '130,68'),\n",
       " ('27\\xa0September\\xa02019', '132,49', '131,14'),\n",
       " ('26\\xa0September\\xa02019', '132,20', '130,86'),\n",
       " ('25\\xa0September\\xa02019', '132,44', '131,07'),\n",
       " ('24\\xa0September\\xa02019', '131,73', '130,39'),\n",
       " ('23\\xa0September\\xa02019', '131,37', '130,03'),\n",
       " ('20\\xa0September\\xa02019', '131,14', '129,80'),\n",
       " ('19\\xa0September\\xa02019', '131,00', '129,69'),\n",
       " ('18\\xa0September\\xa02019', '130,75', '129,43'),\n",
       " ('17\\xa0September\\xa02019', '131,09', '129,75'),\n",
       " ('16\\xa0September\\xa02019', '130,78', '129,47'),\n",
       " ('13\\xa0September\\xa02019', '129,63', '128,30'),\n",
       " ('12\\xa0September\\xa02019', '130,75', '129,42'),\n",
       " ('11\\xa0September\\xa02019', '131,30', '129,96'),\n",
       " ('10\\xa0September\\xa02019', '131,34', '130,00'),\n",
       " ('09\\xa0September\\xa02019', '132,50', '131,16'),\n",
       " ('06\\xa0September\\xa02019', '132,73', '131,39'),\n",
       " ('05\\xa0September\\xa02019', '133,37', '132,00'),\n",
       " ('04\\xa0September\\xa02019', '134,85', '133,47'),\n",
       " ('03\\xa0September\\xa02019', '134,39', '133,01'),\n",
       " ('02\\xa0September\\xa02019', '134,30', '132,92'),\n",
       " ('30\\xa0Agustus\\xa02019', '134,33', '132,96'),\n",
       " ('29\\xa0Agustus\\xa02019', '135,32', '133,95'),\n",
       " ('28\\xa0Agustus\\xa02019', '135,51', '134,15'),\n",
       " ('27\\xa0Agustus\\xa02019', '135,32', '133,94'),\n",
       " ('26\\xa0Agustus\\xa02019', '136,20', '134,81'),\n",
       " ('23\\xa0Agustus\\xa02019', '134,45', '133,08'),\n",
       " ('22\\xa0Agustus\\xa02019', '134,38', '133,01'),\n",
       " ('21\\xa0Agustus\\xa02019', '134,63', '133,26'),\n",
       " ('20\\xa0Agustus\\xa02019', '134,48', '133,14'),\n",
       " ('19\\xa0Agustus\\xa02019', '134,29', '132,93'),\n",
       " ('16\\xa0Agustus\\xa02019', '134,86', '133,51'),\n",
       " ('15\\xa0Agustus\\xa02019', '135,65', '134,27'),\n",
       " ('14\\xa0Agustus\\xa02019', '134,60', '133,24'),\n",
       " ('13\\xa0Agustus\\xa02019', '136,19', '134,80'),\n",
       " ('12\\xa0Agustus\\xa02019', '135,50', '134,14'),\n",
       " ('09\\xa0Agustus\\xa02019', '134,60', '133,25'),\n",
       " ('08\\xa0Agustus\\xa02019', '134,67', '133,30'),\n",
       " ('07\\xa0Agustus\\xa02019', '135,34', '133,96'),\n",
       " ('06\\xa0Agustus\\xa02019', '135,85', '134,48'),\n",
       " ('05\\xa0Agustus\\xa02019', '134,95', '133,57'),\n",
       " ('02\\xa0Agustus\\xa02019', '133,31', '131,95'),\n",
       " ('01\\xa0Agustus\\xa02019', '129,80', '128,49'),\n",
       " ('31\\xa0Juli\\xa02019', '129,87', '128,54'),\n",
       " ('30\\xa0Juli\\xa02019', '129,68', '128,36'),\n",
       " ('29\\xa0Juli\\xa02019', '129,81', '128,48'),\n",
       " ('26\\xa0Juli\\xa02019', '129,56', '128,23'),\n",
       " ('25\\xa0Juli\\xa02019', '129,98', '128,65'),\n",
       " ('24\\xa0Juli\\xa02019', '130,15', '128,84'),\n",
       " ('23\\xa0Juli\\xa02019', '130,00', '128,67'),\n",
       " ('22\\xa0Juli\\xa02019', '129,98', '128,65'),\n",
       " ('19\\xa0Juli\\xa02019', '130,04', '128,72'),\n",
       " ('18\\xa0Juli\\xa02019', '130,45', '129,14'),\n",
       " ('17\\xa0Juli\\xa02019', '129,63', '128,30'),\n",
       " ('16\\xa0Juli\\xa02019', '129,62', '128,30'),\n",
       " ('15\\xa0Juli\\xa02019', '129,93', '128,60'),\n",
       " ('12\\xa0Juli\\xa02019', '130,67', '129,35'),\n",
       " ('11\\xa0Juli\\xa02019', '131,10', '129,77'),\n",
       " ('10\\xa0Juli\\xa02019', '130,61', '129,27'),\n",
       " ('09\\xa0Juli\\xa02019', '130,49', '129,15'),\n",
       " ('08\\xa0Juli\\xa02019', '131,13', '129,80'),\n",
       " ('05\\xa0Juli\\xa02019', '131,87', '130,54'),\n",
       " ('04\\xa0Juli\\xa02019', '131,60', '130,24'),\n",
       " ('03\\xa0Juli\\xa02019', '132,30', '130,94'),\n",
       " ('02\\xa0Juli\\xa02019', '131,09', '129,75'),\n",
       " ('01\\xa0Juli\\xa02019', '131,12', '129,77'),\n",
       " ('28\\xa0Juni\\xa02019', '132,07', '130,71'),\n",
       " ('27\\xa0Juni\\xa02019', '131,98', '130,63'),\n",
       " ('26\\xa0Juni\\xa02019', '132,56', '131,20'),\n",
       " ('25\\xa0Juni\\xa02019', '132,65', '131,28'),\n",
       " ('24\\xa0Juni\\xa02019', '132,61', '131,25'),\n",
       " ('21\\xa0Juni\\xa02019', '132,42', '131,05'),\n",
       " ('20\\xa0Juni\\xa02019', '132,78', '131,43'),\n",
       " ('19\\xa0Juni\\xa02019', '132,20', '130,85'),\n",
       " ('18\\xa0Juni\\xa02019', '133,01', '131,64'),\n",
       " ('17\\xa0Juni\\xa02019', '132,79', '131,42'),\n",
       " ('14\\xa0Juni\\xa02019', '132,73', '131,36'),\n",
       " ('13\\xa0Juni\\xa02019', '132,53', '131,18'),\n",
       " ('12\\xa0Juni\\xa02019', '131,88', '130,56'),\n",
       " ('11\\xa0Juni\\xa02019', '131,96', '130,64'),\n",
       " ('10\\xa0Juni\\xa02019', '131,84', '130,49'),\n",
       " ('31\\xa0Mei\\xa02019', '132,32', '130,96'),\n",
       " ('29\\xa0Mei\\xa02019', '132,48', '131,15'),\n",
       " ('28\\xa0Mei\\xa02019', '132,02', '130,69'),\n",
       " ('27\\xa0Mei\\xa02019', '131,86', '130,51'),\n",
       " ('24\\xa0Mei\\xa02019', '132,51', '131,16'),\n",
       " ('23\\xa0Mei\\xa02019', '132,34', '130,98'),\n",
       " ('22\\xa0Mei\\xa02019', '131,71', '130,37'),\n",
       " ('21\\xa0Mei\\xa02019', '131,94', '130,60'),\n",
       " ('20\\xa0Mei\\xa02019', '132,03', '130,69'),\n",
       " ('17\\xa0Mei\\xa02019', '132,30', '130,95'),\n",
       " ('16\\xa0Mei\\xa02019', '132,73', '131,40'),\n",
       " ('15\\xa0Mei\\xa02019', '132,51', '131,16'),\n",
       " ('14\\xa0Mei\\xa02019', '132,48', '131,16'),\n",
       " ('13\\xa0Mei\\xa02019', '131,54', '130,19'),\n",
       " ('10\\xa0Mei\\xa02019', '131,14', '129,80'),\n",
       " ('09\\xa0Mei\\xa02019', '131,14', '129,80'),\n",
       " ('08\\xa0Mei\\xa02019', '130,69', '129,34'),\n",
       " ('07\\xa0Mei\\xa02019', '129,91', '128,60'),\n",
       " ('06\\xa0Mei\\xa02019', '130,14', '128,80'),\n",
       " ('03\\xa0Mei\\xa02019', '128,83', '127,52'),\n",
       " ('02\\xa0Mei\\xa02019', '128,31', '127,01'),\n",
       " ('30\\xa0April\\xa02019', '128,02', '126,72'),\n",
       " ('29\\xa0April\\xa02019', '127,77', '126,49'),\n",
       " ('26\\xa0April\\xa02019', '127,70', '126,42'),\n",
       " ('25\\xa0April\\xa02019', '127,11', '125,82'),\n",
       " ('24\\xa0April\\xa02019', '126,78', '125,49'),\n",
       " ('23\\xa0April\\xa02019', '126,60', '125,31'),\n",
       " ('22\\xa0April\\xa02019', '126,20', '124,91'),\n",
       " ('18\\xa0April\\xa02019', '125,84', '124,55'),\n",
       " ('16\\xa0April\\xa02019', '126,30', '125,02'),\n",
       " ('15\\xa0April\\xa02019', '126,25', '124,96'),\n",
       " ('12\\xa0April\\xa02019', '127,35', '126,06'),\n",
       " ('11\\xa0April\\xa02019', '128,15', '126,83'),\n",
       " ('10\\xa0April\\xa02019', '128,00', '126,69'),\n",
       " ('09\\xa0April\\xa02019', '127,75', '126,46'),\n",
       " ('08\\xa0April\\xa02019', '127,60', '126,29'),\n",
       " ('05\\xa0April\\xa02019', '127,41', '126,11'),\n",
       " ('04\\xa0April\\xa02019', '127,92', '126,61'),\n",
       " ('02\\xa0April\\xa02019', '128,55', '127,24'),\n",
       " ('01\\xa0April\\xa02019', '128,68', '127,37'),\n",
       " ('29\\xa0Maret\\xa02019', '129,21', '127,92'),\n",
       " ('28\\xa0Maret\\xa02019', '130,04', '128,72'),\n",
       " ('27\\xa0Maret\\xa02019', '129,19', '127,88'),\n",
       " ('26\\xa0Maret\\xa02019', '129,38', '128,07'),\n",
       " ('25\\xa0Maret\\xa02019', '130,23', '128,90'),\n",
       " ('22\\xa0Maret\\xa02019', '128,50', '127,19'),\n",
       " ('21\\xa0Maret\\xa02019', '128,16', '126,84'),\n",
       " ('20\\xa0Maret\\xa02019', '128,14', '126,86'),\n",
       " ('19\\xa0Maret\\xa02019', '128,60', '127,30'),\n",
       " ('18\\xa0Maret\\xa02019', '128,26', '126,96'),\n",
       " ('15\\xa0Maret\\xa02019', '128,69', '127,36'),\n",
       " ('14\\xa0Maret\\xa02019', '128,55', '127,24'),\n",
       " ('13\\xa0Maret\\xa02019', '129,01', '127,70'),\n",
       " ('12\\xa0Maret\\xa02019', '128,56', '127,25'),\n",
       " ('11\\xa0Maret\\xa02019', '129,64', '128,33'),\n",
       " ('08\\xa0Maret\\xa02019', '128,19', '126,88'),\n",
       " ('06\\xa0Maret\\xa02019', '127,01', '125,73'),\n",
       " ('05\\xa0Maret\\xa02019', '127,10', '125,82'),\n",
       " ('04\\xa0Maret\\xa02019', '127,04', '125,74'),\n",
       " ('01\\xa0Maret\\xa02019', '126,99', '125,67'),\n",
       " ('28\\xa0Februari\\xa02019', '127,46', '126,19'),\n",
       " ('27\\xa0Februari\\xa02019', '127,29', '125,99'),\n",
       " ('26\\xa0Februari\\xa02019', '126,92', '125,61'),\n",
       " ('25\\xa0Februari\\xa02019', '127,16', '125,89'),\n",
       " ('22\\xa0Februari\\xa02019', '127,77', '126,47'),\n",
       " ('21\\xa0Februari\\xa02019', '127,57', '126,29'),\n",
       " ('20\\xa0Februari\\xa02019', '127,45', '126,15'),\n",
       " ('19\\xa0Februari\\xa02019', '128,42', '127,10'),\n",
       " ('18\\xa0Februari\\xa02019', '128,26', '126,97'),\n",
       " ('15\\xa0Februari\\xa02019', '128,61', '127,31'),\n",
       " ('14\\xa0Februari\\xa02019', '127,61', '126,33'),\n",
       " ('13\\xa0Februari\\xa02019', '127,47', '126,18'),\n",
       " ('12\\xa0Februari\\xa02019', '128,16', '126,88'),\n",
       " ('11\\xa0Februari\\xa02019', '128,07', '126,79'),\n",
       " ('08\\xa0Februari\\xa02019', '128,15', '126,85'),\n",
       " ('07\\xa0Februari\\xa02019', '127,92', '126,63'),\n",
       " ('06\\xa0Februari\\xa02019', '127,81', '126,52'),\n",
       " ('04\\xa0Februari\\xa02019', '128,24', '126,95'),\n",
       " ('01\\xa0Februari\\xa02019', '129,05', '127,75'),\n",
       " ('31\\xa0Januari\\xa02019', '129,92', '128,60'),\n",
       " ('30\\xa0Januari\\xa02019', '129,79', '128,47'),\n",
       " ('29\\xa0Januari\\xa02019', '129,74', '128,43'),\n",
       " ('28\\xa0Januari\\xa02019', '128,97', '127,65'),\n",
       " ('25\\xa0Januari\\xa02019', '129,68', '128,37'),\n",
       " ('24\\xa0Januari\\xa02019', '129,79', '128,48'),\n",
       " ('23\\xa0Januari\\xa02019', '130,05', '128,75'),\n",
       " ('22\\xa0Januari\\xa02019', '130,39', '129,07'),\n",
       " ('21\\xa0Januari\\xa02019', '130,31', '128,98'),\n",
       " ('18\\xa0Januari\\xa02019', '130,37', '129,03'),\n",
       " ('17\\xa0Januari\\xa02019', '130,61', '129,27'),\n",
       " ('16\\xa0Januari\\xa02019', '131,11', '129,75'),\n",
       " ('15\\xa0Januari\\xa02019', '130,56', '129,23'),\n",
       " ('14\\xa0Januari\\xa02019', '130,52', '129,19'),\n",
       " ('11\\xa0Januari\\xa02019', '130,62', '129,31'),\n",
       " ('10\\xa0Januari\\xa02019', '131,22', '129,88'),\n",
       " ('09\\xa0Januari\\xa02019', '130,31', '129,00'),\n",
       " ('08\\xa0Januari\\xa02019', '129,84', '128,52'),\n",
       " ('07\\xa0Januari\\xa02019', '130,86', '129,51'),\n",
       " ('04\\xa0Januari\\xa02019', '133,51', '132,17'),\n",
       " ('03\\xa0Januari\\xa02019', '135,44', '134,08'),\n",
       " ('02\\xa0Januari\\xa02019', '132,89', '131,54')]"
      ]
     },
     "execution_count": 8,
     "metadata": {},
     "output_type": "execute_result"
    }
   ],
   "source": [
    "temp = [] #initiating a tuple\n",
    "\n",
    "for i in range(1, len(tr)):\n",
    "    row = table.find_all('tr')[i]\n",
    "    \n",
    "    #get bulan\n",
    "    tanggal = row.find_all('td')[0].text\n",
    "    tanggal = tanggal.strip() #for removing the excess whitespace\n",
    "    \n",
    "    #get inflasi\n",
    "    ask = row.find_all('td')[1].text\n",
    "    ask = ask.strip() #for removing the excess whitespace\n",
    "    \n",
    "    bid = row.find_all('td')[2].text\n",
    "    bid = bid.strip() \n",
    "    \n",
    "    temp.append((tanggal,ask,bid)) \n",
    "    \n",
    "temp "
   ]
  },
  {
   "cell_type": "code",
   "execution_count": 9,
   "metadata": {
    "ExecuteTime": {
     "end_time": "2020-05-14T14:34:36.819860Z",
     "start_time": "2020-05-14T14:34:36.785591Z"
    }
   },
   "outputs": [
    {
     "data": {
      "text/html": [
       "<div>\n",
       "<style scoped>\n",
       "    .dataframe tbody tr th:only-of-type {\n",
       "        vertical-align: middle;\n",
       "    }\n",
       "\n",
       "    .dataframe tbody tr th {\n",
       "        vertical-align: top;\n",
       "    }\n",
       "\n",
       "    .dataframe thead th {\n",
       "        text-align: right;\n",
       "    }\n",
       "</style>\n",
       "<table border=\"1\" class=\"dataframe\">\n",
       "  <thead>\n",
       "    <tr style=\"text-align: right;\">\n",
       "      <th></th>\n",
       "      <th>Tanggal</th>\n",
       "      <th>Ask</th>\n",
       "      <th>Bid</th>\n",
       "    </tr>\n",
       "  </thead>\n",
       "  <tbody>\n",
       "    <tr>\n",
       "      <th>0</th>\n",
       "      <td>29 November 2019</td>\n",
       "      <td>129,44</td>\n",
       "      <td>128,12</td>\n",
       "    </tr>\n",
       "    <tr>\n",
       "      <th>1</th>\n",
       "      <td>28 November 2019</td>\n",
       "      <td>129,47</td>\n",
       "      <td>128,15</td>\n",
       "    </tr>\n",
       "    <tr>\n",
       "      <th>2</th>\n",
       "      <td>27 November 2019</td>\n",
       "      <td>129,84</td>\n",
       "      <td>128,53</td>\n",
       "    </tr>\n",
       "    <tr>\n",
       "      <th>3</th>\n",
       "      <td>26 November 2019</td>\n",
       "      <td>129,82</td>\n",
       "      <td>128,49</td>\n",
       "    </tr>\n",
       "    <tr>\n",
       "      <th>4</th>\n",
       "      <td>25 November 2019</td>\n",
       "      <td>130,20</td>\n",
       "      <td>128,89</td>\n",
       "    </tr>\n",
       "  </tbody>\n",
       "</table>\n",
       "</div>"
      ],
      "text/plain": [
       "            Tanggal     Ask     Bid\n",
       "0  29 November 2019  129,44  128,12\n",
       "1  28 November 2019  129,47  128,15\n",
       "2  27 November 2019  129,84  128,53\n",
       "3  26 November 2019  129,82  128,49\n",
       "4  25 November 2019  130,20  128,89"
      ]
     },
     "execution_count": 9,
     "metadata": {},
     "output_type": "execute_result"
    }
   ],
   "source": [
    "df = pd.DataFrame(temp, columns = ('Tanggal','Ask','Bid'))\n",
    "df.head()"
   ]
  },
  {
   "cell_type": "code",
   "execution_count": 10,
   "metadata": {
    "ExecuteTime": {
     "end_time": "2020-05-14T14:35:02.006514Z",
     "start_time": "2020-05-14T14:35:02.002503Z"
    }
   },
   "outputs": [
    {
     "data": {
      "text/plain": [
       "Tanggal    object\n",
       "Ask        object\n",
       "Bid        object\n",
       "dtype: object"
      ]
     },
     "execution_count": 10,
     "metadata": {},
     "output_type": "execute_result"
    }
   ],
   "source": []
  }
 ],
 "metadata": {
  "kernelspec": {
   "display_name": "Python [conda env:aldo]",
   "language": "python",
   "name": "conda-env-aldo-py"
  },
  "language_info": {
   "codemirror_mode": {
    "name": "ipython",
    "version": 3
   },
   "file_extension": ".py",
   "mimetype": "text/x-python",
   "name": "python",
   "nbconvert_exporter": "python",
   "pygments_lexer": "ipython3",
   "version": "3.8.2"
  }
 },
 "nbformat": 4,
 "nbformat_minor": 4
}
