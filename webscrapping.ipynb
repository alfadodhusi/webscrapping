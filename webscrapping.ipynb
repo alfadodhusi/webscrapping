{
 "cells": [
  {
   "cell_type": "markdown",
   "metadata": {},
   "source": [
    "# Web Scrapping Kurs Japan Yen  Januari - November 2019"
   ]
  },
  {
   "cell_type": "markdown",
   "metadata": {},
   "source": [
    "Halo semua! Pada halaman ini, saya akan mencoba untuk melakukan pengambilan data dari sebuah web atau yang lebih dikenal dengan web-scrapping. Proses web-scrapping ini dilakukan dengan menggunakan bahasa pemrograman Python dan menggunakan library requests, pandas, dan beautifulsoup. Saya akan melakukan pengambilan data pada sebuah website jual-beli uang asing (money changer) dan mengambil data kurs mata uang Yen pada tahun 2019 (Januari-Desember). Setelah itu, saya akan mencoba untuk membuat grafik perubahan kurs dan melakukan analisa terhadap grafik tersebut. Di akhir halaman, saya akan membuat kesimpulan dari analisis ini. "
   ]
  },
  {
   "cell_type": "markdown",
   "metadata": {},
   "source": [
    "## 1. Import Library Pandas, Requests, Matplotlib, dan BeautifulSoup"
   ]
  },
  {
   "cell_type": "markdown",
   "metadata": {},
   "source": [
    "Langkah pertama dalam proses web-scrapping ini adalah load semua library yang dibutuhkan dalam pemrograman ini. Dalam hal ini saya kana import library pandas, requests, matplotlib dan beautifulsoup. "
   ]
  },
  {
   "cell_type": "code",
   "execution_count": 11,
   "metadata": {
    "ExecuteTime": {
     "end_time": "2020-05-17T04:35:09.852630Z",
     "start_time": "2020-05-17T04:35:09.850624Z"
    }
   },
   "outputs": [],
   "source": [
    "import pandas as pd"
   ]
  },
  {
   "cell_type": "code",
   "execution_count": 12,
   "metadata": {
    "ExecuteTime": {
     "end_time": "2020-05-17T04:35:09.953696Z",
     "start_time": "2020-05-17T04:35:09.853631Z"
    }
   },
   "outputs": [],
   "source": [
    "import matplotlib.pyplot as plt"
   ]
  },
  {
   "cell_type": "markdown",
   "metadata": {},
   "source": [
    "Library requests ini berguna untuk mengambil data dari alamat atau url tertentu"
   ]
  },
  {
   "cell_type": "code",
   "execution_count": 13,
   "metadata": {
    "ExecuteTime": {
     "end_time": "2020-05-17T04:35:11.720598Z",
     "start_time": "2020-05-17T04:35:09.954692Z"
    }
   },
   "outputs": [],
   "source": [
    "import requests\n",
    "url_get = requests.get('https://monexnews.com/kurs-valuta-asing.htm?kurs=JPY&searchdatefrom=01-01-2019&searchdateto=30-12-2019')"
   ]
  },
  {
   "cell_type": "markdown",
   "metadata": {},
   "source": [
    "Import beautifulsoup dan lakukan pengambilan konten dari url yang sudah ditentukan "
   ]
  },
  {
   "cell_type": "code",
   "execution_count": 14,
   "metadata": {
    "ExecuteTime": {
     "end_time": "2020-05-17T04:35:11.771637Z",
     "start_time": "2020-05-17T04:35:11.722442Z"
    }
   },
   "outputs": [
    {
     "name": "stdout",
     "output_type": "stream",
     "text": [
      "<class 'bs4.BeautifulSoup'>\n"
     ]
    }
   ],
   "source": [
    "from bs4 import BeautifulSoup \n",
    "\n",
    "soup = BeautifulSoup(url_get.content,\"html.parser\")\n",
    "print(type(soup))"
   ]
  },
  {
   "cell_type": "markdown",
   "metadata": {},
   "source": [
    "Tentukan object dan atribut yang diinginkan pada website yang dituju. Cek atribut dan informasi dengan cara menekan tombol F12 atau klik kanan-inspect pada halaman yang diinginkan."
   ]
  },
  {
   "cell_type": "code",
   "execution_count": 15,
   "metadata": {
    "ExecuteTime": {
     "end_time": "2020-05-17T04:35:11.847228Z",
     "start_time": "2020-05-17T04:35:11.772627Z"
    }
   },
   "outputs": [
    {
     "name": "stdout",
     "output_type": "stream",
     "text": [
      "table class=\"table\">\n",
      " <tr>\n",
      "  <td>\n",
      "   TANGGAL\n",
      "  </td>\n",
      "  <td>\n",
      "   ASK\n",
      "  </td>\n",
      "  <td>\n",
      "   BID\n",
      "  </td>\n",
      " </tr>\n",
      " <tr class=\"verySoftGreyBg\">\n",
      "  <td>\n",
      "   30 Desember 2019\n",
      "  </td>\n",
      "  <td>\n",
      "   128,30\n",
      "  </td>\n",
      "  <td>\n",
      "   127,02\n",
      "  </td>\n",
      " </tr>\n",
      " <tr>\n",
      "  <td>\n",
      "   27 Desember 2019\n",
      "  </td>\n",
      "  <td>\n",
      "   128,11\n",
      "  </td>\n",
      "  <td>\n",
      "   126,83\n",
      "  </td>\n",
      " </tr>\n",
      " <tr class=\"verySoftGreyBg\">\n",
      "  <td>\n",
      "   26 Desember 2019\n",
      "  </td>\n",
      "  <td>\n",
      "   128,27\n",
      "  </td>\n",
      "  <td>\n",
      "   126,98\n",
      "  </td>\n",
      " </tr>\n",
      " <tr>\n",
      "  <td>\n",
      "   23 Desember 2019\n",
      "  </td>\n",
      "  <td>\n",
      "   128,\n"
     ]
    }
   ],
   "source": [
    "table = soup.find('table', attrs={'class':'table'})\n",
    "print(table.prettify()[1:500])"
   ]
  },
  {
   "cell_type": "markdown",
   "metadata": {},
   "source": [
    "## 2. Melakukan Ekstrasi dari Tabel HTML Web"
   ]
  },
  {
   "cell_type": "markdown",
   "metadata": {},
   "source": [
    "Pada tahap ini, saya akan mencoba mengekstrak informasi dari web dengan cara mencari semua kode html yang mengandung huruf 'tr' di dalamnya. 'tr' ini adalah sebuah command html yang menunjukan sebuah baris pada sebuah tabel html. "
   ]
  },
  {
   "cell_type": "code",
   "execution_count": 16,
   "metadata": {
    "ExecuteTime": {
     "end_time": "2020-05-17T04:35:11.921927Z",
     "start_time": "2020-05-17T04:35:11.849206Z"
    }
   },
   "outputs": [],
   "source": [
    "tr = table.find_all('tr')"
   ]
  },
  {
   "cell_type": "markdown",
   "metadata": {},
   "source": [
    "Kemudian, buat sebuah tuple. Saya akan memberikan nama 'temp' untuk tuple ini. SAmbil ketiga kolom pada tabel (karena tabel yang diambil terdiri dari 3 kolom). Kolom pertama adalah tanggal dengan index 0 (bahasa python memulai index dari 0), lalu yang kedua adalah kolom harga ask (harga jual) dengan index 1, dan kolom ketiga adalah kolom bid (harga beli) dengan index 2. Di akhir loop, saya melakukan append untuk membuat sebuah list yang berisi 3 kolom tadi."
   ]
  },
  {
   "cell_type": "code",
   "execution_count": 17,
   "metadata": {
    "ExecuteTime": {
     "end_time": "2020-05-17T04:35:12.253713Z",
     "start_time": "2020-05-17T04:35:11.924960Z"
    }
   },
   "outputs": [
    {
     "data": {
      "text/plain": [
       "[('30\\xa0Desember\\xa02019', '128,30', '127,02'),\n",
       " ('27\\xa0Desember\\xa02019', '128,11', '126,83'),\n",
       " ('26\\xa0Desember\\xa02019', '128,27', '126,98'),\n",
       " ('23\\xa0Desember\\xa02019', '128,39', '127,10'),\n",
       " ('20\\xa0Desember\\xa02019', '128,63', '127,34'),\n",
       " ('19\\xa0Desember\\xa02019', '128,24', '126,93'),\n",
       " ('18\\xa0Desember\\xa02019', '128,64', '127,32'),\n",
       " ('17\\xa0Desember\\xa02019', '128,62', '127,33'),\n",
       " ('16\\xa0Desember\\xa02019', '128,67', '127,36'),\n",
       " ('13\\xa0Desember\\xa02019', '128,30', '127,02'),\n",
       " ('12\\xa0Desember\\xa02019', '130,04', '128,71'),\n",
       " ('11\\xa0Desember\\xa02019', '129,65', '128,34'),\n",
       " ('10\\xa0Desember\\xa02019', '129,56', '128,26'),\n",
       " ('09\\xa0Desember\\xa02019', '129,76', '128,44'),\n",
       " ('06\\xa0Desember\\xa02019', '129,78', '128,45'),\n",
       " ('05\\xa0Desember\\xa02019', '130,10', '128,77'),\n",
       " ('04\\xa0Desember\\xa02019', '130,79', '129,45'),\n",
       " ('03\\xa0Desember\\xa02019', '130,15', '128,82'),\n",
       " ('02\\xa0Desember\\xa02019', '129,36', '128,04'),\n",
       " ('29\\xa0November\\xa02019', '129,44', '128,12'),\n",
       " ('28\\xa0November\\xa02019', '129,47', '128,15'),\n",
       " ('27\\xa0November\\xa02019', '129,84', '128,53'),\n",
       " ('26\\xa0November\\xa02019', '129,82', '128,49'),\n",
       " ('25\\xa0November\\xa02019', '130,20', '128,89'),\n",
       " ('22\\xa0November\\xa02019', '130,44', '129,10'),\n",
       " ('21\\xa0November\\xa02019', '130,73', '129,39'),\n",
       " ('20\\xa0November\\xa02019', '130,56', '129,23'),\n",
       " ('19\\xa0November\\xa02019', '130,34', '129,03'),\n",
       " ('18\\xa0November\\xa02019', '130,02', '128,70'),\n",
       " ('15\\xa0November\\xa02019', '130,23', '128,90'),\n",
       " ('14\\xa0November\\xa02019', '130,34', '129,01'),\n",
       " ('13\\xa0November\\xa02019', '129,86', '128,53'),\n",
       " ('12\\xa0November\\xa02019', '129,45', '128,15'),\n",
       " ('11\\xa0November\\xa02019', '129,37', '128,07'),\n",
       " ('08\\xa0November\\xa02019', '129,03', '127,73'),\n",
       " ('07\\xa0November\\xa02019', '129,71', '128,41'),\n",
       " ('06\\xa0November\\xa02019', '128,96', '127,64'),\n",
       " ('05\\xa0November\\xa02019', '129,67', '128,34'),\n",
       " ('04\\xa0November\\xa02019', '130,04', '128,71'),\n",
       " ('01\\xa0November\\xa02019', '130,88', '129,54'),\n",
       " ('31\\xa0Oktober\\xa02019', '129,57', '128,25'),\n",
       " ('30\\xa0Oktober\\xa02019', '129,67', '128,34'),\n",
       " ('29\\xa0Oktober\\xa02019', '129,39', '128,09'),\n",
       " ('28\\xa0Oktober\\xa02019', '129,57', '128,27'),\n",
       " ('25\\xa0Oktober\\xa02019', '130,11', '128,78'),\n",
       " ('24\\xa0Oktober\\xa02019', '129,52', '128,22'),\n",
       " ('23\\xa0Oktober\\xa02019', '130,35', '129,05'),\n",
       " ('22\\xa0Oktober\\xa02019', '130,06', '128,73'),\n",
       " ('21\\xa0Oktober\\xa02019', '130,94', '129,60'),\n",
       " ('18\\xa0Oktober\\xa02019', '130,91', '129,60'),\n",
       " ('17\\xa0Oktober\\xa02019', '130,94', '129,61'),\n",
       " ('16\\xa0Oktober\\xa02019', '131,20', '129,89'),\n",
       " ('15\\xa0Oktober\\xa02019', '131,19', '129,87'),\n",
       " ('14\\xa0Oktober\\xa02019', '131,11', '129,77'),\n",
       " ('11\\xa0Oktober\\xa02019', '131,66', '130,31'),\n",
       " ('10\\xa0Oktober\\xa02019', '132,29', '130,94'),\n",
       " ('09\\xa0Oktober\\xa02019', '133,01', '131,64'),\n",
       " ('08\\xa0Oktober\\xa02019', '132,68', '131,32'),\n",
       " ('07\\xa0Oktober\\xa02019', '133,19', '131,83'),\n",
       " ('04\\xa0Oktober\\xa02019', '133,05', '131,71'),\n",
       " ('03\\xa0Oktober\\xa02019', '133,13', '131,80'),\n",
       " ('02\\xa0Oktober\\xa02019', '132,55', '131,19'),\n",
       " ('01\\xa0Oktober\\xa02019', '131,87', '130,52'),\n",
       " ('30\\xa0September\\xa02019', '132,03', '130,68'),\n",
       " ('27\\xa0September\\xa02019', '132,49', '131,14'),\n",
       " ('26\\xa0September\\xa02019', '132,20', '130,86'),\n",
       " ('25\\xa0September\\xa02019', '132,44', '131,07'),\n",
       " ('24\\xa0September\\xa02019', '131,73', '130,39'),\n",
       " ('23\\xa0September\\xa02019', '131,37', '130,03'),\n",
       " ('20\\xa0September\\xa02019', '131,14', '129,80'),\n",
       " ('19\\xa0September\\xa02019', '131,00', '129,69'),\n",
       " ('18\\xa0September\\xa02019', '130,75', '129,43'),\n",
       " ('17\\xa0September\\xa02019', '131,09', '129,75'),\n",
       " ('16\\xa0September\\xa02019', '130,78', '129,47'),\n",
       " ('13\\xa0September\\xa02019', '129,63', '128,30'),\n",
       " ('12\\xa0September\\xa02019', '130,75', '129,42'),\n",
       " ('11\\xa0September\\xa02019', '131,30', '129,96'),\n",
       " ('10\\xa0September\\xa02019', '131,34', '130,00'),\n",
       " ('09\\xa0September\\xa02019', '132,50', '131,16'),\n",
       " ('06\\xa0September\\xa02019', '132,73', '131,39'),\n",
       " ('05\\xa0September\\xa02019', '133,37', '132,00'),\n",
       " ('04\\xa0September\\xa02019', '134,85', '133,47'),\n",
       " ('03\\xa0September\\xa02019', '134,39', '133,01'),\n",
       " ('02\\xa0September\\xa02019', '134,30', '132,92'),\n",
       " ('30\\xa0Agustus\\xa02019', '134,33', '132,96'),\n",
       " ('29\\xa0Agustus\\xa02019', '135,32', '133,95'),\n",
       " ('28\\xa0Agustus\\xa02019', '135,51', '134,15'),\n",
       " ('27\\xa0Agustus\\xa02019', '135,32', '133,94'),\n",
       " ('26\\xa0Agustus\\xa02019', '136,20', '134,81'),\n",
       " ('23\\xa0Agustus\\xa02019', '134,45', '133,08'),\n",
       " ('22\\xa0Agustus\\xa02019', '134,38', '133,01'),\n",
       " ('21\\xa0Agustus\\xa02019', '134,63', '133,26'),\n",
       " ('20\\xa0Agustus\\xa02019', '134,48', '133,14'),\n",
       " ('19\\xa0Agustus\\xa02019', '134,29', '132,93'),\n",
       " ('16\\xa0Agustus\\xa02019', '134,86', '133,51'),\n",
       " ('15\\xa0Agustus\\xa02019', '135,65', '134,27'),\n",
       " ('14\\xa0Agustus\\xa02019', '134,60', '133,24'),\n",
       " ('13\\xa0Agustus\\xa02019', '136,19', '134,80'),\n",
       " ('12\\xa0Agustus\\xa02019', '135,50', '134,14'),\n",
       " ('09\\xa0Agustus\\xa02019', '134,60', '133,25'),\n",
       " ('08\\xa0Agustus\\xa02019', '134,67', '133,30'),\n",
       " ('07\\xa0Agustus\\xa02019', '135,34', '133,96'),\n",
       " ('06\\xa0Agustus\\xa02019', '135,85', '134,48'),\n",
       " ('05\\xa0Agustus\\xa02019', '134,95', '133,57'),\n",
       " ('02\\xa0Agustus\\xa02019', '133,31', '131,95'),\n",
       " ('01\\xa0Agustus\\xa02019', '129,80', '128,49'),\n",
       " ('31\\xa0Juli\\xa02019', '129,87', '128,54'),\n",
       " ('30\\xa0Juli\\xa02019', '129,68', '128,36'),\n",
       " ('29\\xa0Juli\\xa02019', '129,81', '128,48'),\n",
       " ('26\\xa0Juli\\xa02019', '129,56', '128,23'),\n",
       " ('25\\xa0Juli\\xa02019', '129,98', '128,65'),\n",
       " ('24\\xa0Juli\\xa02019', '130,15', '128,84'),\n",
       " ('23\\xa0Juli\\xa02019', '130,00', '128,67'),\n",
       " ('22\\xa0Juli\\xa02019', '129,98', '128,65'),\n",
       " ('19\\xa0Juli\\xa02019', '130,04', '128,72'),\n",
       " ('18\\xa0Juli\\xa02019', '130,45', '129,14'),\n",
       " ('17\\xa0Juli\\xa02019', '129,63', '128,30'),\n",
       " ('16\\xa0Juli\\xa02019', '129,62', '128,30'),\n",
       " ('15\\xa0Juli\\xa02019', '129,93', '128,60'),\n",
       " ('12\\xa0Juli\\xa02019', '130,67', '129,35'),\n",
       " ('11\\xa0Juli\\xa02019', '131,10', '129,77'),\n",
       " ('10\\xa0Juli\\xa02019', '130,61', '129,27'),\n",
       " ('09\\xa0Juli\\xa02019', '130,49', '129,15'),\n",
       " ('08\\xa0Juli\\xa02019', '131,13', '129,80'),\n",
       " ('05\\xa0Juli\\xa02019', '131,87', '130,54'),\n",
       " ('04\\xa0Juli\\xa02019', '131,60', '130,24'),\n",
       " ('03\\xa0Juli\\xa02019', '132,30', '130,94'),\n",
       " ('02\\xa0Juli\\xa02019', '131,09', '129,75'),\n",
       " ('01\\xa0Juli\\xa02019', '131,12', '129,77'),\n",
       " ('28\\xa0Juni\\xa02019', '132,07', '130,71'),\n",
       " ('27\\xa0Juni\\xa02019', '131,98', '130,63'),\n",
       " ('26\\xa0Juni\\xa02019', '132,56', '131,20'),\n",
       " ('25\\xa0Juni\\xa02019', '132,65', '131,28'),\n",
       " ('24\\xa0Juni\\xa02019', '132,61', '131,25'),\n",
       " ('21\\xa0Juni\\xa02019', '132,42', '131,05'),\n",
       " ('20\\xa0Juni\\xa02019', '132,78', '131,43'),\n",
       " ('19\\xa0Juni\\xa02019', '132,20', '130,85'),\n",
       " ('18\\xa0Juni\\xa02019', '133,01', '131,64'),\n",
       " ('17\\xa0Juni\\xa02019', '132,79', '131,42'),\n",
       " ('14\\xa0Juni\\xa02019', '132,73', '131,36'),\n",
       " ('13\\xa0Juni\\xa02019', '132,53', '131,18'),\n",
       " ('12\\xa0Juni\\xa02019', '131,88', '130,56'),\n",
       " ('11\\xa0Juni\\xa02019', '131,96', '130,64'),\n",
       " ('10\\xa0Juni\\xa02019', '131,84', '130,49'),\n",
       " ('31\\xa0Mei\\xa02019', '132,32', '130,96'),\n",
       " ('29\\xa0Mei\\xa02019', '132,48', '131,15'),\n",
       " ('28\\xa0Mei\\xa02019', '132,02', '130,69'),\n",
       " ('27\\xa0Mei\\xa02019', '131,86', '130,51'),\n",
       " ('24\\xa0Mei\\xa02019', '132,51', '131,16'),\n",
       " ('23\\xa0Mei\\xa02019', '132,34', '130,98'),\n",
       " ('22\\xa0Mei\\xa02019', '131,71', '130,37'),\n",
       " ('21\\xa0Mei\\xa02019', '131,94', '130,60'),\n",
       " ('20\\xa0Mei\\xa02019', '132,03', '130,69'),\n",
       " ('17\\xa0Mei\\xa02019', '132,30', '130,95'),\n",
       " ('16\\xa0Mei\\xa02019', '132,73', '131,40'),\n",
       " ('15\\xa0Mei\\xa02019', '132,51', '131,16'),\n",
       " ('14\\xa0Mei\\xa02019', '132,48', '131,16'),\n",
       " ('13\\xa0Mei\\xa02019', '131,54', '130,19'),\n",
       " ('10\\xa0Mei\\xa02019', '131,14', '129,80'),\n",
       " ('09\\xa0Mei\\xa02019', '131,14', '129,80'),\n",
       " ('08\\xa0Mei\\xa02019', '130,69', '129,34'),\n",
       " ('07\\xa0Mei\\xa02019', '129,91', '128,60'),\n",
       " ('06\\xa0Mei\\xa02019', '130,14', '128,80'),\n",
       " ('03\\xa0Mei\\xa02019', '128,83', '127,52'),\n",
       " ('02\\xa0Mei\\xa02019', '128,31', '127,01'),\n",
       " ('30\\xa0April\\xa02019', '128,02', '126,72'),\n",
       " ('29\\xa0April\\xa02019', '127,77', '126,49'),\n",
       " ('26\\xa0April\\xa02019', '127,70', '126,42'),\n",
       " ('25\\xa0April\\xa02019', '127,11', '125,82'),\n",
       " ('24\\xa0April\\xa02019', '126,78', '125,49'),\n",
       " ('23\\xa0April\\xa02019', '126,60', '125,31'),\n",
       " ('22\\xa0April\\xa02019', '126,20', '124,91'),\n",
       " ('18\\xa0April\\xa02019', '125,84', '124,55'),\n",
       " ('16\\xa0April\\xa02019', '126,30', '125,02'),\n",
       " ('15\\xa0April\\xa02019', '126,25', '124,96'),\n",
       " ('12\\xa0April\\xa02019', '127,35', '126,06'),\n",
       " ('11\\xa0April\\xa02019', '128,15', '126,83'),\n",
       " ('10\\xa0April\\xa02019', '128,00', '126,69'),\n",
       " ('09\\xa0April\\xa02019', '127,75', '126,46'),\n",
       " ('08\\xa0April\\xa02019', '127,60', '126,29'),\n",
       " ('05\\xa0April\\xa02019', '127,41', '126,11'),\n",
       " ('04\\xa0April\\xa02019', '127,92', '126,61'),\n",
       " ('02\\xa0April\\xa02019', '128,55', '127,24'),\n",
       " ('01\\xa0April\\xa02019', '128,68', '127,37'),\n",
       " ('29\\xa0Maret\\xa02019', '129,21', '127,92'),\n",
       " ('28\\xa0Maret\\xa02019', '130,04', '128,72'),\n",
       " ('27\\xa0Maret\\xa02019', '129,19', '127,88'),\n",
       " ('26\\xa0Maret\\xa02019', '129,38', '128,07'),\n",
       " ('25\\xa0Maret\\xa02019', '130,23', '128,90'),\n",
       " ('22\\xa0Maret\\xa02019', '128,50', '127,19'),\n",
       " ('21\\xa0Maret\\xa02019', '128,16', '126,84'),\n",
       " ('20\\xa0Maret\\xa02019', '128,14', '126,86'),\n",
       " ('19\\xa0Maret\\xa02019', '128,60', '127,30'),\n",
       " ('18\\xa0Maret\\xa02019', '128,26', '126,96'),\n",
       " ('15\\xa0Maret\\xa02019', '128,69', '127,36'),\n",
       " ('14\\xa0Maret\\xa02019', '128,55', '127,24'),\n",
       " ('13\\xa0Maret\\xa02019', '129,01', '127,70'),\n",
       " ('12\\xa0Maret\\xa02019', '128,56', '127,25'),\n",
       " ('11\\xa0Maret\\xa02019', '129,64', '128,33'),\n",
       " ('08\\xa0Maret\\xa02019', '128,19', '126,88'),\n",
       " ('06\\xa0Maret\\xa02019', '127,01', '125,73'),\n",
       " ('05\\xa0Maret\\xa02019', '127,10', '125,82'),\n",
       " ('04\\xa0Maret\\xa02019', '127,04', '125,74'),\n",
       " ('01\\xa0Maret\\xa02019', '126,99', '125,67'),\n",
       " ('28\\xa0Februari\\xa02019', '127,46', '126,19'),\n",
       " ('27\\xa0Februari\\xa02019', '127,29', '125,99'),\n",
       " ('26\\xa0Februari\\xa02019', '126,92', '125,61'),\n",
       " ('25\\xa0Februari\\xa02019', '127,16', '125,89'),\n",
       " ('22\\xa0Februari\\xa02019', '127,77', '126,47'),\n",
       " ('21\\xa0Februari\\xa02019', '127,57', '126,29'),\n",
       " ('20\\xa0Februari\\xa02019', '127,45', '126,15'),\n",
       " ('19\\xa0Februari\\xa02019', '128,42', '127,10'),\n",
       " ('18\\xa0Februari\\xa02019', '128,26', '126,97'),\n",
       " ('15\\xa0Februari\\xa02019', '128,61', '127,31'),\n",
       " ('14\\xa0Februari\\xa02019', '127,61', '126,33'),\n",
       " ('13\\xa0Februari\\xa02019', '127,47', '126,18'),\n",
       " ('12\\xa0Februari\\xa02019', '128,16', '126,88'),\n",
       " ('11\\xa0Februari\\xa02019', '128,07', '126,79'),\n",
       " ('08\\xa0Februari\\xa02019', '128,15', '126,85'),\n",
       " ('07\\xa0Februari\\xa02019', '127,92', '126,63'),\n",
       " ('06\\xa0Februari\\xa02019', '127,81', '126,52'),\n",
       " ('04\\xa0Februari\\xa02019', '128,24', '126,95'),\n",
       " ('01\\xa0Februari\\xa02019', '129,05', '127,75'),\n",
       " ('31\\xa0Januari\\xa02019', '129,92', '128,60'),\n",
       " ('30\\xa0Januari\\xa02019', '129,79', '128,47'),\n",
       " ('29\\xa0Januari\\xa02019', '129,74', '128,43'),\n",
       " ('28\\xa0Januari\\xa02019', '128,97', '127,65'),\n",
       " ('25\\xa0Januari\\xa02019', '129,68', '128,37'),\n",
       " ('24\\xa0Januari\\xa02019', '129,79', '128,48'),\n",
       " ('23\\xa0Januari\\xa02019', '130,05', '128,75'),\n",
       " ('22\\xa0Januari\\xa02019', '130,39', '129,07'),\n",
       " ('21\\xa0Januari\\xa02019', '130,31', '128,98'),\n",
       " ('18\\xa0Januari\\xa02019', '130,37', '129,03'),\n",
       " ('17\\xa0Januari\\xa02019', '130,61', '129,27'),\n",
       " ('16\\xa0Januari\\xa02019', '131,11', '129,75'),\n",
       " ('15\\xa0Januari\\xa02019', '130,56', '129,23'),\n",
       " ('14\\xa0Januari\\xa02019', '130,52', '129,19'),\n",
       " ('11\\xa0Januari\\xa02019', '130,62', '129,31'),\n",
       " ('10\\xa0Januari\\xa02019', '131,22', '129,88'),\n",
       " ('09\\xa0Januari\\xa02019', '130,31', '129,00'),\n",
       " ('08\\xa0Januari\\xa02019', '129,84', '128,52'),\n",
       " ('07\\xa0Januari\\xa02019', '130,86', '129,51'),\n",
       " ('04\\xa0Januari\\xa02019', '133,51', '132,17'),\n",
       " ('03\\xa0Januari\\xa02019', '135,44', '134,08'),\n",
       " ('02\\xa0Januari\\xa02019', '132,89', '131,54')]"
      ]
     },
     "execution_count": 17,
     "metadata": {},
     "output_type": "execute_result"
    }
   ],
   "source": [
    "temp = [] #initiating a tuple\n",
    "\n",
    "for i in range(1, len(tr)):\n",
    "    row = table.find_all('tr')[i]\n",
    "    \n",
    "    #get tanggal\n",
    "    tanggal = row.find_all('td')[0].text\n",
    "    tanggal = tanggal.strip() #for removing the excess whitespace\n",
    "    \n",
    "    #get jual\n",
    "    jual = row.find_all('td')[1].text\n",
    "    jual = jual.strip() #for removing the excess whitespace\n",
    "    \n",
    "    #get beli\n",
    "    beli = row.find_all('td')[2].text\n",
    "    beli = beli.strip() \n",
    "    \n",
    "    temp.append((tanggal,jual,beli)) \n",
    "    \n",
    "temp "
   ]
  },
  {
   "cell_type": "markdown",
   "metadata": {},
   "source": [
    "## 3. Membuat dataframe dari data yang sudah diekstrak"
   ]
  },
  {
   "cell_type": "markdown",
   "metadata": {},
   "source": [
    "Setelah berhasil membuat tupple, saya akan mengubah tuple tersebut menjadi sebuah dataframe. Namun, karena data masih belum berurut dari bulan Januari, saya akan mengubah urutan bulan dari januari menggunakan syntax [::-1]"
   ]
  },
  {
   "cell_type": "code",
   "execution_count": 18,
   "metadata": {
    "ExecuteTime": {
     "end_time": "2020-05-17T04:35:12.257724Z",
     "start_time": "2020-05-17T04:35:12.255718Z"
    }
   },
   "outputs": [],
   "source": [
    "temp = temp [::-1]"
   ]
  },
  {
   "cell_type": "markdown",
   "metadata": {},
   "source": [
    "Buat dataframe nya"
   ]
  },
  {
   "cell_type": "code",
   "execution_count": 19,
   "metadata": {
    "ExecuteTime": {
     "end_time": "2020-05-17T04:35:12.350075Z",
     "start_time": "2020-05-17T04:35:12.258726Z"
    }
   },
   "outputs": [
    {
     "data": {
      "text/html": [
       "<div>\n",
       "<style scoped>\n",
       "    .dataframe tbody tr th:only-of-type {\n",
       "        vertical-align: middle;\n",
       "    }\n",
       "\n",
       "    .dataframe tbody tr th {\n",
       "        vertical-align: top;\n",
       "    }\n",
       "\n",
       "    .dataframe thead th {\n",
       "        text-align: right;\n",
       "    }\n",
       "</style>\n",
       "<table border=\"1\" class=\"dataframe\">\n",
       "  <thead>\n",
       "    <tr style=\"text-align: right;\">\n",
       "      <th></th>\n",
       "      <th>Tanggal</th>\n",
       "      <th>Jual</th>\n",
       "      <th>Beli</th>\n",
       "    </tr>\n",
       "  </thead>\n",
       "  <tbody>\n",
       "    <tr>\n",
       "      <th>0</th>\n",
       "      <td>02 Januari 2019</td>\n",
       "      <td>132,89</td>\n",
       "      <td>131,54</td>\n",
       "    </tr>\n",
       "    <tr>\n",
       "      <th>1</th>\n",
       "      <td>03 Januari 2019</td>\n",
       "      <td>135,44</td>\n",
       "      <td>134,08</td>\n",
       "    </tr>\n",
       "    <tr>\n",
       "      <th>2</th>\n",
       "      <td>04 Januari 2019</td>\n",
       "      <td>133,51</td>\n",
       "      <td>132,17</td>\n",
       "    </tr>\n",
       "    <tr>\n",
       "      <th>3</th>\n",
       "      <td>07 Januari 2019</td>\n",
       "      <td>130,86</td>\n",
       "      <td>129,51</td>\n",
       "    </tr>\n",
       "    <tr>\n",
       "      <th>4</th>\n",
       "      <td>08 Januari 2019</td>\n",
       "      <td>129,84</td>\n",
       "      <td>128,52</td>\n",
       "    </tr>\n",
       "  </tbody>\n",
       "</table>\n",
       "</div>"
      ],
      "text/plain": [
       "           Tanggal    Jual    Beli\n",
       "0  02 Januari 2019  132,89  131,54\n",
       "1  03 Januari 2019  135,44  134,08\n",
       "2  04 Januari 2019  133,51  132,17\n",
       "3  07 Januari 2019  130,86  129,51\n",
       "4  08 Januari 2019  129,84  128,52"
      ]
     },
     "execution_count": 19,
     "metadata": {},
     "output_type": "execute_result"
    }
   ],
   "source": [
    "df = pd.DataFrame(temp, columns = ('Tanggal','Jual','Beli'))\n",
    "df.head()"
   ]
  },
  {
   "cell_type": "markdown",
   "metadata": {},
   "source": [
    "## 4. Mengganti \",\" menjadi \".\""
   ]
  },
  {
   "cell_type": "markdown",
   "metadata": {},
   "source": [
    "Dapat dilihat pada kolom ask dan bid, harga masih ditulis dengan ','. Hal ini akan menghalangi perubahan tipe data object menjadi float karena bahas python tidak mengenali ',' sebagai pemisah pecahan. Untuk itu, saya akan mengubah ',' menjad '.' dengan menggunakan fungsi regex."
   ]
  },
  {
   "cell_type": "code",
   "execution_count": 20,
   "metadata": {
    "ExecuteTime": {
     "end_time": "2020-05-17T04:35:12.450422Z",
     "start_time": "2020-05-17T04:35:12.351060Z"
    }
   },
   "outputs": [],
   "source": [
    "df.Jual.replace(to_replace = ',',value = '.',regex=True, inplace=True) "
   ]
  },
  {
   "cell_type": "code",
   "execution_count": 21,
   "metadata": {
    "ExecuteTime": {
     "end_time": "2020-05-17T04:35:12.538672Z",
     "start_time": "2020-05-17T04:35:12.452438Z"
    }
   },
   "outputs": [],
   "source": [
    "df.Beli.replace(to_replace = ',',value = '.',regex=True, inplace=True) "
   ]
  },
  {
   "cell_type": "markdown",
   "metadata": {},
   "source": [
    "## 5. Mengganti bahasa Indonesia dalam bulan menjadi Bahasa Inggris"
   ]
  },
  {
   "cell_type": "markdown",
   "metadata": {},
   "source": [
    "Kolom tanggal masih dalam bahasa Indonesia. Untuk mengubah tipe data object menjadi datetime, bahasa dalam tanggal harus diubah menjadi bahasa Inggris. Saya juga menggunakan fungsi regex dalam pengubahan bahasa tanggal ini. "
   ]
  },
  {
   "cell_type": "code",
   "execution_count": 22,
   "metadata": {
    "ExecuteTime": {
     "end_time": "2020-05-17T04:35:12.629615Z",
     "start_time": "2020-05-17T04:35:12.540634Z"
    }
   },
   "outputs": [],
   "source": [
    "df.Tanggal.replace(to_replace = 'Oktober',value = 'October',regex=True, inplace=True) \n",
    "df.Tanggal.replace(to_replace = 'Agustus',value = 'August',regex=True, inplace=True) \n",
    "df.Tanggal.replace(to_replace = 'Desember',value = 'December',regex=True, inplace=True) \n",
    "df.Tanggal.replace(to_replace = 'Juli',value = 'July',regex=True, inplace=True) \n",
    "df.Tanggal.replace(to_replace = 'Juni',value = 'June',regex=True, inplace=True) \n",
    "df.Tanggal.replace(to_replace = 'Januari',value = 'January',regex=True, inplace=True) \n",
    "df.Tanggal.replace(to_replace = 'Februari',value = 'February',regex=True, inplace=True) \n",
    "df.Tanggal.replace(to_replace = 'Maret',value = 'March',regex=True, inplace=True) \n",
    "df.Tanggal.replace(to_replace = 'Mei',value = 'May',regex=True, inplace=True) "
   ]
  },
  {
   "cell_type": "markdown",
   "metadata": {},
   "source": [
    "## 6. Mengganti tipe data 'object' menjadi 'float64'"
   ]
  },
  {
   "cell_type": "markdown",
   "metadata": {},
   "source": [
    "Setelah ',' diganti menjadi '.' , tipe data bisa diubah menjadi float64. "
   ]
  },
  {
   "cell_type": "code",
   "execution_count": 23,
   "metadata": {
    "ExecuteTime": {
     "end_time": "2020-05-17T04:35:12.717875Z",
     "start_time": "2020-05-17T04:35:12.631619Z"
    }
   },
   "outputs": [
    {
     "data": {
      "text/plain": [
       "Tanggal     object\n",
       "Jual       float64\n",
       "Beli       float64\n",
       "dtype: object"
      ]
     },
     "execution_count": 23,
     "metadata": {},
     "output_type": "execute_result"
    }
   ],
   "source": [
    "df[['Jual','Beli']] = df[['Jual','Beli']].astype('float64')\n",
    "df.dtypes"
   ]
  },
  {
   "cell_type": "code",
   "execution_count": 24,
   "metadata": {
    "ExecuteTime": {
     "end_time": "2020-05-17T04:35:12.812439Z",
     "start_time": "2020-05-17T04:35:12.719883Z"
    }
   },
   "outputs": [
    {
     "data": {
      "text/html": [
       "<div>\n",
       "<style scoped>\n",
       "    .dataframe tbody tr th:only-of-type {\n",
       "        vertical-align: middle;\n",
       "    }\n",
       "\n",
       "    .dataframe tbody tr th {\n",
       "        vertical-align: top;\n",
       "    }\n",
       "\n",
       "    .dataframe thead th {\n",
       "        text-align: right;\n",
       "    }\n",
       "</style>\n",
       "<table border=\"1\" class=\"dataframe\">\n",
       "  <thead>\n",
       "    <tr style=\"text-align: right;\">\n",
       "      <th></th>\n",
       "      <th>Tanggal</th>\n",
       "      <th>Jual</th>\n",
       "      <th>Beli</th>\n",
       "    </tr>\n",
       "  </thead>\n",
       "  <tbody>\n",
       "    <tr>\n",
       "      <th>0</th>\n",
       "      <td>02 January 2019</td>\n",
       "      <td>132.89</td>\n",
       "      <td>131.54</td>\n",
       "    </tr>\n",
       "    <tr>\n",
       "      <th>1</th>\n",
       "      <td>03 January 2019</td>\n",
       "      <td>135.44</td>\n",
       "      <td>134.08</td>\n",
       "    </tr>\n",
       "    <tr>\n",
       "      <th>2</th>\n",
       "      <td>04 January 2019</td>\n",
       "      <td>133.51</td>\n",
       "      <td>132.17</td>\n",
       "    </tr>\n",
       "    <tr>\n",
       "      <th>3</th>\n",
       "      <td>07 January 2019</td>\n",
       "      <td>130.86</td>\n",
       "      <td>129.51</td>\n",
       "    </tr>\n",
       "    <tr>\n",
       "      <th>4</th>\n",
       "      <td>08 January 2019</td>\n",
       "      <td>129.84</td>\n",
       "      <td>128.52</td>\n",
       "    </tr>\n",
       "  </tbody>\n",
       "</table>\n",
       "</div>"
      ],
      "text/plain": [
       "           Tanggal    Jual    Beli\n",
       "0  02 January 2019  132.89  131.54\n",
       "1  03 January 2019  135.44  134.08\n",
       "2  04 January 2019  133.51  132.17\n",
       "3  07 January 2019  130.86  129.51\n",
       "4  08 January 2019  129.84  128.52"
      ]
     },
     "execution_count": 24,
     "metadata": {},
     "output_type": "execute_result"
    }
   ],
   "source": [
    "df.head()"
   ]
  },
  {
   "cell_type": "markdown",
   "metadata": {},
   "source": [
    "## 7. Mengekstrak Nama 'Bulan' "
   ]
  },
  {
   "cell_type": "markdown",
   "metadata": {},
   "source": [
    "Saya akan membuat kolom bulan yang berisi bulan pada kolom tanggal. Untuk mempermudah dalam pembacaan, saya akan menyingkat nama bulan menjadi tiga huruf saja. "
   ]
  },
  {
   "cell_type": "code",
   "execution_count": 25,
   "metadata": {
    "ExecuteTime": {
     "end_time": "2020-05-17T04:35:12.934612Z",
     "start_time": "2020-05-17T04:35:12.814446Z"
    }
   },
   "outputs": [
    {
     "data": {
      "text/html": [
       "<div>\n",
       "<style scoped>\n",
       "    .dataframe tbody tr th:only-of-type {\n",
       "        vertical-align: middle;\n",
       "    }\n",
       "\n",
       "    .dataframe tbody tr th {\n",
       "        vertical-align: top;\n",
       "    }\n",
       "\n",
       "    .dataframe thead th {\n",
       "        text-align: right;\n",
       "    }\n",
       "</style>\n",
       "<table border=\"1\" class=\"dataframe\">\n",
       "  <thead>\n",
       "    <tr style=\"text-align: right;\">\n",
       "      <th></th>\n",
       "      <th>Tanggal</th>\n",
       "      <th>Jual</th>\n",
       "      <th>Beli</th>\n",
       "      <th>Bulan</th>\n",
       "    </tr>\n",
       "  </thead>\n",
       "  <tbody>\n",
       "    <tr>\n",
       "      <th>0</th>\n",
       "      <td>02 January 2019</td>\n",
       "      <td>132.89</td>\n",
       "      <td>131.54</td>\n",
       "      <td>Jan</td>\n",
       "    </tr>\n",
       "    <tr>\n",
       "      <th>1</th>\n",
       "      <td>03 January 2019</td>\n",
       "      <td>135.44</td>\n",
       "      <td>134.08</td>\n",
       "      <td>Jan</td>\n",
       "    </tr>\n",
       "    <tr>\n",
       "      <th>2</th>\n",
       "      <td>04 January 2019</td>\n",
       "      <td>133.51</td>\n",
       "      <td>132.17</td>\n",
       "      <td>Jan</td>\n",
       "    </tr>\n",
       "    <tr>\n",
       "      <th>3</th>\n",
       "      <td>07 January 2019</td>\n",
       "      <td>130.86</td>\n",
       "      <td>129.51</td>\n",
       "      <td>Jan</td>\n",
       "    </tr>\n",
       "    <tr>\n",
       "      <th>4</th>\n",
       "      <td>08 January 2019</td>\n",
       "      <td>129.84</td>\n",
       "      <td>128.52</td>\n",
       "      <td>Jan</td>\n",
       "    </tr>\n",
       "  </tbody>\n",
       "</table>\n",
       "</div>"
      ],
      "text/plain": [
       "           Tanggal    Jual    Beli Bulan\n",
       "0  02 January 2019  132.89  131.54   Jan\n",
       "1  03 January 2019  135.44  134.08   Jan\n",
       "2  04 January 2019  133.51  132.17   Jan\n",
       "3  07 January 2019  130.86  129.51   Jan\n",
       "4  08 January 2019  129.84  128.52   Jan"
      ]
     },
     "execution_count": 25,
     "metadata": {},
     "output_type": "execute_result"
    }
   ],
   "source": [
    "df['Bulan']=pd.to_datetime(df['Tanggal']).dt.strftime('%b').astype('category')\n",
    "df.head()"
   ]
  },
  {
   "cell_type": "markdown",
   "metadata": {},
   "source": [
    "## 8. Plot menggunakan 'matplotlib'"
   ]
  },
  {
   "cell_type": "markdown",
   "metadata": {},
   "source": [
    "Setelah dataframe sudah siap digunakan dan sudah rapi, saatnya untuk membuat grafik garis untuk memberikan gambaran perubahan nilai kurs Yen dari bulan Januari-Desember 2019. Saya menggunakan library matlplotlib."
   ]
  },
  {
   "cell_type": "code",
   "execution_count": 26,
   "metadata": {
    "ExecuteTime": {
     "end_time": "2020-05-17T04:35:13.441016Z",
     "start_time": "2020-05-17T04:35:12.936618Z"
    }
   },
   "outputs": [
    {
     "data": {
      "text/plain": [
       "<matplotlib.axes._subplots.AxesSubplot at 0xc8b0084730>"
      ]
     },
     "execution_count": 26,
     "metadata": {},
     "output_type": "execute_result"
    },
    {
     "data": {
      "image/png": "[encoded data removed]",
      "text/plain": [
       "<Figure size 432x288 with 1 Axes>"
      ]
     },
     "metadata": {
      "needs_background": "light"
     },
     "output_type": "display_data"
    }
   ],
   "source": [
    "df.plot(kind = 'line', x = 'Bulan', y=['Jual','Beli'], title ='Kurs Yen Januari-Desember 2019')"
   ]
  },
  {
   "cell_type": "markdown",
   "metadata": {},
   "source": [
    "## 9. Analisa "
   ]
  },
  {
   "cell_type": "markdown",
   "metadata": {},
   "source": [
    "Berdasarkan grafik yang sudah dibuat, dapat dilihat bahwa nilai kurs jual-beli yen sepanjang tahun 2019 sangat fluktuatif. Nilai kurs jual-beli paling tinggi adalah sekitar 136 dan terjadi pada bulan Agustus, sedangkan paling rendah ada di bulan April dengan nilai kurang lebih 125. \n",
    "\n",
    "Nilai kurs jual-beli pada periode kuartil pertama Januari-Maret menunjukan kecendurangan adanya penurunan dari 135 poin menjadi sekitar 127 poin. Hal ini menunjukan adanya penurunan kualitas ekonomi di negara Jepang pada waktu itu. Namun demikian, pada kuartil kedua, April- Juni, nilai kurs jual-beli kembali naik menjadi sekirar 132 poin. Periode ini merupakan musim semi liburan sehingga terjadi peningkatan devisa negara di Jepang akibat meningkatnya angka turis yang datang. \n",
    "\n",
    "Hal yang cukup unik terjadi pada periode Juli-September. Nilai kurs jual Yen pada bulan Juli ada pada angka 128 kemudian naik menjadi 136 poin pada bulan Agustus dan kembali lagi ke 128 poin pada bulan September. Perubahan nilai ini seakan akan adanya suntikan sementara pada perekonomian Jepang yang mengakibatkan lonjakan yang cukup tinggi pada periode yang singkat. Nilai kurs jual-beli Jepang kian menurun dari bulan September sampai Desember 2019. \n",
    "\n",
    "Secara keseluruhan nilai jual-beli kurs Yen pada tahun 2019 mengalami penurunan. Nilai kurs dibuka pada awal tahun di 135 poin dan diakhiri pada bulan Dsember dengan nilai 127 poin. Meskipun demikian, terjadi pergerakan yang cukup dinamis sepanjang tahun 2019 yang disebakan oleh keadaan ekonomi dan juga politik negara Jepang itu sendiri."
   ]
  },
  {
   "cell_type": "markdown",
   "metadata": {},
   "source": [
    "## 10. Kesimpulan"
   ]
  },
  {
   "cell_type": "markdown",
   "metadata": {},
   "source": [
    "Proses web-scrapping dengan menggunakan bahas Python dapat dilakukan dengan cukup mudah dan cepat. Tingkat kesulitan dari proses ini ditentukan dari bentuk data atau tabel yang ingin diambil. Ketersediaan kode html di setiap website berbeda-beda tergantung pada pihak pengembang (developer) website itu sendiri. Oleh karena itu, untuk melakukan web-scrapping, disarankan untuk memahami dulu barisan kode html suatu website sehingga kita tahu bagian mana yang harus diambil dan dapat mengolah data  sesuai keinginan. \n",
    "\n",
    "Demikian contoh proses web-scrapping menggunakan Python. Semoga halaman ini bermanfaat bagi pembaca dan dapat memberi padangan secara umum tentang proses web-scrapping itu sendiri. \n",
    "Terima kasih dan sampa jumpa!\n",
    "\n",
    "\n",
    "Alfado Dhusi Sembiring\n",
    "\n",
    "Profil saya : https://www.linkedin.com/in/alfado"
   ]
  }
 ],
 "metadata": {
  "kernelspec": {
   "display_name": "Python [conda env:aldo] *",
   "language": "python",
   "name": "conda-env-aldo-py"
  },
  "language_info": {
   "codemirror_mode": {
    "name": "ipython",
    "version": 3
   },
   "file_extension": ".py",
   "mimetype": "text/x-python",
   "name": "python",
   "nbconvert_exporter": "python",
   "pygments_lexer": "ipython3",
   "version": "3.8.2"
  }
 },
 "nbformat": 4,
 "nbformat_minor": 4
}
